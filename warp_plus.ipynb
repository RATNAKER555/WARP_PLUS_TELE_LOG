{
  "nbformat": 4,
  "nbformat_minor": 0,
  "metadata": {
    "colab": {
      "provenance": [],
      "machine_shape": "hm",
      "authorship_tag": "ABX9TyNGmKO7uN9N2z6UW/EmsnqM",
      "include_colab_link": true
    },
    "kernelspec": {
      "name": "python3",
      "display_name": "Python 3"
    },
    "language_info": {
      "name": "python"
    },
    "gpuClass": "standard"
  },
  "cells": [
    {
      "cell_type": "markdown",
      "metadata": {
        "id": "view-in-github",
        "colab_type": "text"
      },
      "source": [
        "<a href=\"https://colab.research.google.com/github/RATNAKER555/warp_plus/blob/main/warp_plus.ipynb\" target=\"_parent\"><img src=\"https://colab.research.google.com/assets/colab-badge.svg\" alt=\"Open In Colab\"/></a>"
      ]
    },
    {
      "cell_type": "markdown",
      "source": [
        "# **Press 1 if you wish to feed the secret params in the UI, otherwise press 2 if you have the params saved in a file**"
      ],
      "metadata": {
        "id": "0UkQU7s6nOKD"
      }
    },
    {
      "cell_type": "code",
      "source": [
        "\n",
        "!pip install httpx\n",
        "\n",
        "\n",
        "from datetime import datetime\n",
        "from json import dumps\n",
        "from random import choice, randint\n",
        "from string import ascii_letters, digits\n",
        "from time import sleep\n",
        "import httpx\n",
        "import os\n",
        "from tqdm import tqdm\n",
        "# Defaults\n",
        "SUCCESS_COUNT, FAIL_COUNT = 0, 0"
      ],
      "metadata": {
        "id": "KDSqCDeMHPx-"
      },
      "execution_count": null,
      "outputs": []
    },
    {
      "cell_type": "code",
      "source": [
        "def opt_1():\n",
        "   global WARP_CLIENT_ID, bot_token, bot_chatID\n",
        "   #@markdown <br><center><img src='https://1.1.1.1/media/warp-desktop.png' height=\"200\" alt=\"Wrap+\"/></center>\n",
        "   #@markdown <center><h3><b><i>WARP (1.1.1.1)</i></b></h3></center><br>\n",
        "   WARP_CLIENT_ID = \"\" #@param {type:\"string\"}\n",
        "   bot_token = \"\" #@param {type:\"string\"}\n",
        "   bot_chatID = '' #@param {type:\"string\"}\n",
        "        # code to process file from path\n",
        "\n",
        "       \n",
        "  "
      ],
      "metadata": {
        "id": "OS0NUbptIb6J"
      },
      "execution_count": null,
      "outputs": []
    },
    {
      "cell_type": "code",
      "source": [
        "def extract_variables(file_path):\n",
        "    variables = {}\n",
        "    with open(file_path, \"r\") as file:\n",
        "        for line in file:\n",
        "            line = line.strip()\n",
        "            if line.startswith((\"WARP_CLIENT_ID\", \"bot_token\", \"bot_chatID\")):\n",
        "                variable_name, variable_value = line.split(\"=\")\n",
        "                variables[variable_name.strip()] = variable_value.strip()\n",
        "    return variables"
      ],
      "metadata": {
        "id": "I99gf9TSMkgX"
      },
      "execution_count": null,
      "outputs": []
    },
    {
      "cell_type": "code",
      "source": [
        "def switch_case():\n",
        "    global filepath\n",
        "    option = input(\"Choose an option (1 or 2): \")\n",
        "    \n",
        "    if option == \"1\":\n",
        "        opt_1()\n",
        "        \n",
        "    elif option == \"2\":\n",
        "        from google.colab import files\n",
        "        print(\"Upload the file in .txt , .csv , or .py format\")\n",
        "        uploaded = files.upload()\n",
        "        filename = list(uploaded.keys())[0]\n",
        "        print(filename)\n",
        "        filepath = os.path.abspath(filename)\n",
        "        print(\"Uploaded file path:\", filepath)\n",
        "        variables = extract_variables(filepath)\n",
        "        print(variables)\n",
        "      \n",
        "        \n",
        "    else:\n",
        "        print(\"Invalid option.\")\n"
      ],
      "metadata": {
        "id": "RSz3GmLXFW2H"
      },
      "execution_count": null,
      "outputs": []
    },
    {
      "cell_type": "code",
      "source": [
        "switch_case()"
      ],
      "metadata": {
        "id": "5SkFH62fI4Xn"
      },
      "execution_count": null,
      "outputs": []
    },
    {
      "cell_type": "code",
      "source": [
        "print(filepath)"
      ],
      "metadata": {
        "id": "7m9B5aJnSwN1"
      },
      "execution_count": null,
      "outputs": []
    },
    {
      "cell_type": "code",
      "source": [
        "!git clone https://github.com/RATNAKER555/warp_plus.git"
      ],
      "metadata": {
        "id": "VIolzWnhc3T8"
      },
      "execution_count": null,
      "outputs": []
    },
    {
      "cell_type": "code",
      "source": [],
      "metadata": {
        "id": "CzYeRISidGiZ"
      },
      "execution_count": null,
      "outputs": []
    },
    {
      "cell_type": "code",
      "source": [
        "import os\n",
        "\n",
        "# Define the path where the secrets.py file will be created\n",
        "secrets_filepath = '/content/warp_plus/secrets.py'\n",
        "\n",
        "# Extract the values of WARP_CLIENT_ID, bot_token, and bot_chatID from the uploaded file\n",
        "with open(filepath, 'r') as f:\n",
        "    contents = f.read()\n",
        "    secrets = contents.strip().split('\\n')\n",
        "\n",
        "# Create the contents of the secrets.py file\n",
        "contents = '\\n'.join([f\"{secret.split('=')[0]}='{secret.split('=')[1].strip()}'\" for secret in secrets])\n",
        "\n",
        "# Write the contents to the secrets.py file\n",
        "with open(secrets_filepath, 'w') as f:\n",
        "    f.write(contents)\n",
        "\n",
        "# Print the contents of the secrets.py file\n",
        "with open(secrets_filepath, 'r') as f:\n",
        "    print(f.read())\n",
        "\n"
      ],
      "metadata": {
        "id": "pZcbyg9ERkfN"
      },
      "execution_count": null,
      "outputs": []
    },
    {
      "cell_type": "markdown",
      "source": [
        "# **SETTING UP COLAB HELPER FOR TELEGRM UPDATES**"
      ],
      "metadata": {
        "id": "kkA0-IPqQLrc"
      }
    },
    {
      "cell_type": "code",
      "source": [
        "import warp_plus.telegram_bot_logger as telegram_bot_logger\n",
        "telegram_bot_logger.tg_sendMessage(\"Colab helper initialized\")\n",
        "print(\"Colab Helper Initialized\")"
      ],
      "metadata": {
        "id": "VDDlf_l0P0DX"
      },
      "execution_count": null,
      "outputs": []
    },
    {
      "cell_type": "code",
      "source": [
        "import warp_plus.secrets as secrets\n",
        "\n",
        "WARP_CLIENT_ID = secrets.WARP_CLIENT_ID"
      ],
      "metadata": {
        "id": "1vGLEAaEYQY8"
      },
      "execution_count": null,
      "outputs": []
    },
    {
      "cell_type": "code",
      "source": [
        "WARP_CLIENT_ID\n",
        "def genString(stringLength):\n",
        "  try:\n",
        "    letters = ascii_letters + digits\n",
        "    return ''.join(choice(letters) for _ in range(stringLength))\n",
        "  except Exception as error_code:\n",
        "    print(error_code)\n",
        "\n",
        "def digitString(stringLength):\n",
        "  try:\n",
        "    digit = digits\n",
        "    return ''.join(choice(digit) for _ in range(stringLength))\n",
        "  except Exception as error_code:\n",
        "    print(error_code)\n",
        "\n",
        "url = f\"https://api.cloudflareclient.com/v0a{digitString(3)}/reg\"\n",
        "\n",
        "while True:\n",
        "  try:\n",
        "    install_id = genString(22)\n",
        "    body = {\n",
        "      \"key\": f\"{genString(43)}=\",\n",
        "      \"install_id\": install_id,\n",
        "      \"fcm_token\": f\"{install_id}:APA91b{genString(134)}\",\n",
        "      \"referrer\": WARP_CLIENT_ID,\n",
        "      \"warp_enabled\": False,\n",
        "      \"tos\": f\"{datetime.now().isoformat()[:-3]}+02:00\",\n",
        "      \"type\": \"Android\",\n",
        "      \"locale\": \"es_ES\"\n",
        "    }\n",
        "    data = dumps(body).encode(\"utf8\")\n",
        "    headers = {\n",
        "      \"Content-Type\": \"application/json; charset=UTF-8\",\n",
        "      \"Host\": \"api.cloudflareclient.com\",\n",
        "      \"Connection\": \"Keep-Alive\",\n",
        "      \"Accept-Encoding\": \"gzip\",\n",
        "      \"User-Agent\": \"okhttp/3.12.1\"\n",
        "    }\n",
        "    response = httpx.post(url, data=data, headers=headers).status_code\n",
        "  except Exception as error_code:\n",
        "    print(error_code)\n",
        "\n",
        "  if response == 200:\n",
        "    SUCCESS_COUNT += 1\n",
        "    telegram_bot_logger.tg_sendMessage(f\"PASSED: +1GB (total: {SUCCESS_COUNT}GB, failed: {FAIL_COUNT})\")\n",
        "    print(f\"PASSED: +1GB (total: {SUCCESS_COUNT}GB, failed: {FAIL_COUNT})\")\n",
        "  else:\n",
        "    telegram_bot_logger.tg_sendMessage(f\"FAILED: {response}\")\n",
        "    print(f\"FAILED: {response}\")\n",
        "    FAIL_COUNT += 1\n",
        "  \n",
        "  # Cooldown\n",
        "  cooldown_time = randint(30,50)\n",
        "  print(f\"Sleep: {cooldown_time} seconds.\")\n",
        "  sleep(cooldown_time)\n",
        "  for i in tqdm(range(cooldown_time), desc=\"Cooling down...\"):\n",
        "      sleep(1)"
      ],
      "metadata": {
        "id": "S86m6hK-I8SM"
      },
      "execution_count": null,
      "outputs": []
    }
  ]
}